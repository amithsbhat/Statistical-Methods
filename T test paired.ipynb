{
 "cells": [
  {
   "cell_type": "code",
   "execution_count": 8,
   "metadata": {},
   "outputs": [
    {
     "data": {
      "text/html": [
       "<div>\n",
       "<style scoped>\n",
       "    .dataframe tbody tr th:only-of-type {\n",
       "        vertical-align: middle;\n",
       "    }\n",
       "\n",
       "    .dataframe tbody tr th {\n",
       "        vertical-align: top;\n",
       "    }\n",
       "\n",
       "    .dataframe thead th {\n",
       "        text-align: right;\n",
       "    }\n",
       "</style>\n",
       "<table border=\"1\" class=\"dataframe\">\n",
       "  <thead>\n",
       "    <tr style=\"text-align: right;\">\n",
       "      <th></th>\n",
       "      <th>patient</th>\n",
       "      <th>sex</th>\n",
       "      <th>agegrp</th>\n",
       "      <th>bp_before</th>\n",
       "      <th>bp_after</th>\n",
       "    </tr>\n",
       "  </thead>\n",
       "  <tbody>\n",
       "    <tr>\n",
       "      <td>0</td>\n",
       "      <td>1</td>\n",
       "      <td>Male</td>\n",
       "      <td>30-45</td>\n",
       "      <td>143</td>\n",
       "      <td>153</td>\n",
       "    </tr>\n",
       "    <tr>\n",
       "      <td>1</td>\n",
       "      <td>2</td>\n",
       "      <td>Male</td>\n",
       "      <td>30-45</td>\n",
       "      <td>163</td>\n",
       "      <td>170</td>\n",
       "    </tr>\n",
       "    <tr>\n",
       "      <td>2</td>\n",
       "      <td>3</td>\n",
       "      <td>Male</td>\n",
       "      <td>30-45</td>\n",
       "      <td>153</td>\n",
       "      <td>168</td>\n",
       "    </tr>\n",
       "    <tr>\n",
       "      <td>3</td>\n",
       "      <td>4</td>\n",
       "      <td>Male</td>\n",
       "      <td>30-45</td>\n",
       "      <td>153</td>\n",
       "      <td>142</td>\n",
       "    </tr>\n",
       "    <tr>\n",
       "      <td>4</td>\n",
       "      <td>5</td>\n",
       "      <td>Male</td>\n",
       "      <td>30-45</td>\n",
       "      <td>146</td>\n",
       "      <td>141</td>\n",
       "    </tr>\n",
       "  </tbody>\n",
       "</table>\n",
       "</div>"
      ],
      "text/plain": [
       "   patient   sex agegrp  bp_before  bp_after\n",
       "0        1  Male  30-45        143       153\n",
       "1        2  Male  30-45        163       170\n",
       "2        3  Male  30-45        153       168\n",
       "3        4  Male  30-45        153       142\n",
       "4        5  Male  30-45        146       141"
      ]
     },
     "execution_count": 8,
     "metadata": {},
     "output_type": "execute_result"
    }
   ],
   "source": [
    "from scipy import stats\n",
    "import numpy as np\n",
    "import pandas as pd\n",
    "import matplotlib.pyplot as plt\n",
    "\n",
    "df = pd.read_csv(r'C:\\\\Contents\\\\Kaggle\\\\interpreting-data-using-statistical-models-python\\\\02\\\\demos\\datasets\\\\blood_pressure.csv')\n",
    "df.head()"
   ]
  },
  {
   "cell_type": "code",
   "execution_count": 5,
   "metadata": {},
   "outputs": [
    {
     "data": {
      "image/png": "[encoded data removed]",
      "text/plain": [
       "<Figure size 432x288 with 1 Axes>"
      ]
     },
     "metadata": {
      "needs_background": "light"
     },
     "output_type": "display_data"
    }
   ],
   "source": [
    "df[['bp_before', 'bp_after']].boxplot()\n",
    "plt.show()"
   ]
  },
  {
   "cell_type": "code",
   "execution_count": 6,
   "metadata": {},
   "outputs": [],
   "source": [
    "diff = df['bp_before'] - df['bp_after']"
   ]
  },
  {
   "cell_type": "code",
   "execution_count": 9,
   "metadata": {},
   "outputs": [
    {
     "data": {
      "text/plain": [
       "((array([-2.52654228, -2.1978944 , -2.0086642 , -1.8721281 , -1.76356639,\n",
       "         -1.67252351, -1.59354821, -1.5234211 , -1.46007481, -1.40209915,\n",
       "         -1.3484871 , -1.29849326, -1.25154963, -1.20721295, -1.16513026,\n",
       "         -1.12501567, -1.08663416, -1.04979006, -1.01431855, -0.98007946,\n",
       "         -0.94695242, -0.9148333 , -0.8836313 , -0.85326673, -0.82366923,\n",
       "         -0.79477627, -0.76653206, -0.73888652, -0.71179451, -0.68521516,\n",
       "         -0.65911132, -0.6334491 , -0.60819743, -0.58332778, -0.55881382,\n",
       "         -0.53463119, -0.51075726, -0.48717098, -0.46385269, -0.44078394,\n",
       "         -0.41794744, -0.39532687, -0.37290682, -0.35067268, -0.32861058,\n",
       "         -0.3067073 , -0.28495019, -0.26332716, -0.24182657, -0.2204372 ,\n",
       "         -0.19914822, -0.17794913, -0.15682971, -0.13578003, -0.11479034,\n",
       "         -0.09385111, -0.07295295, -0.05208661, -0.03124292, -0.0104128 ,\n",
       "          0.0104128 ,  0.03124292,  0.05208661,  0.07295295,  0.09385111,\n",
       "          0.11479034,  0.13578003,  0.15682971,  0.17794913,  0.19914822,\n",
       "          0.2204372 ,  0.24182657,  0.26332716,  0.28495019,  0.3067073 ,\n",
       "          0.32861058,  0.35067268,  0.37290682,  0.39532687,  0.41794744,\n",
       "          0.44078394,  0.46385269,  0.48717098,  0.51075726,  0.53463119,\n",
       "          0.55881382,  0.58332778,  0.60819743,  0.6334491 ,  0.65911132,\n",
       "          0.68521516,  0.71179451,  0.73888652,  0.76653206,  0.79477627,\n",
       "          0.82366923,  0.85326673,  0.8836313 ,  0.9148333 ,  0.94695242,\n",
       "          0.98007946,  1.01431855,  1.04979006,  1.08663416,  1.12501567,\n",
       "          1.16513026,  1.20721295,  1.25154963,  1.29849326,  1.3484871 ,\n",
       "          1.40209915,  1.46007481,  1.5234211 ,  1.59354821,  1.67252351,\n",
       "          1.76356639,  1.8721281 ,  2.0086642 ,  2.1978944 ,  2.52654228]),\n",
       "  array([-41, -36, -29, -27, -26, -25, -21, -19, -19, -15, -15, -15, -14,\n",
       "         -14, -14, -14, -13, -12, -11, -10, -10, -10, -10,  -9,  -9,  -8,\n",
       "          -8,  -8,  -7,  -7,  -7,  -7,  -6,  -6,  -5,  -3,  -3,  -3,  -2,\n",
       "          -2,  -2,  -2,  -2,   0,   0,   0,   0,   1,   1,   1,   2,   2,\n",
       "           2,   3,   3,   3,   3,   3,   3,   3,   4,   5,   5,   6,   6,\n",
       "           7,   7,   7,   7,   8,   8,   9,   9,   9,  10,  10,  10,  11,\n",
       "          11,  12,  12,  12,  14,  15,  15,  15,  16,  16,  16,  18,  18,\n",
       "          19,  19,  20,  20,  21,  22,  22,  22,  22,  22,  23,  23,  24,\n",
       "          24,  26,  27,  27,  27,  27,  29,  29,  29,  30,  30,  30,  33,\n",
       "          42,  45,  45], dtype=int64)),\n",
       " (16.87714049175083, 5.091666666666663, 0.9965872150745229))"
      ]
     },
     "execution_count": 9,
     "metadata": {},
     "output_type": "execute_result"
    },
    {
     "data": {
      "image/png": "[encoded data removed]",
      "text/plain": [
       "<Figure size 432x288 with 1 Axes>"
      ]
     },
     "metadata": {
      "needs_background": "light"
     },
     "output_type": "display_data"
    }
   ],
   "source": [
    "stats.probplot(diff, plot=plt, dist='norm')"
   ]
  },
  {
   "cell_type": "code",
   "execution_count": 10,
   "metadata": {
    "scrolled": true
   },
   "outputs": [
    {
     "data": {
      "text/plain": [
       "Ttest_relResult(statistic=3.3371870510833657, pvalue=0.0011297914644840823)"
      ]
     },
     "execution_count": 10,
     "metadata": {},
     "output_type": "execute_result"
    }
   ],
   "source": [
    "stats.ttest_rel(df['bp_before'], df['bp_after'])"
   ]
  },
  {
   "cell_type": "code",
   "execution_count": null,
   "metadata": {},
   "outputs": [],
   "source": []
  },
  {
   "cell_type": "code",
   "execution_count": 11,
   "metadata": {},
   "outputs": [
    {
     "data": {
      "text/plain": [
       "(    Variable      N        Mean         SD        SE   95% Conf.    Interval\n",
       " 0  bp_before  120.0  156.450000  11.389845  1.039746  154.391199  158.508801\n",
       " 1   bp_after  120.0  151.358333  14.177622  1.294234  148.795621  153.921046\n",
       " 2       diff  120.0    5.091667  16.713601  1.525736    2.070557    8.112776,\n",
       "                   Paired samples t-test   results\n",
       " 0  Difference (bp_before - bp_after) =     5.0917\n",
       " 1                 Degrees of freedom =   119.0000\n",
       " 2                                  t =     3.3372\n",
       " 3              Two side test p value =     0.0011\n",
       " 4             Difference < 0 p value =     0.9994\n",
       " 5             Difference > 0 p value =     0.0006\n",
       " 6                          Cohen's d =     0.3046\n",
       " 7                          Hedge's g =     0.3037\n",
       " 8                      Glass's delta =     0.4470\n",
       " 9                                  r =     0.2925)"
      ]
     },
     "execution_count": 11,
     "metadata": {},
     "output_type": "execute_result"
    }
   ],
   "source": [
    "import researchpy as rp\n",
    "\n",
    "rp.ttest(df['bp_before'], df['bp_after'], paired=True, equal_variances=False)"
   ]
  },
  {
   "cell_type": "code",
   "execution_count": null,
   "metadata": {},
   "outputs": [],
   "source": []
  },
  {
   "cell_type": "code",
   "execution_count": null,
   "metadata": {},
   "outputs": [],
   "source": []
  }
 ],
 "metadata": {
  "kernelspec": {
   "display_name": "Python 3",
   "language": "python",
   "name": "python3"
  },
  "language_info": {
   "codemirror_mode": {
    "name": "ipython",
    "version": 3
   },
   "file_extension": ".py",
   "mimetype": "text/x-python",
   "name": "python",
   "nbconvert_exporter": "python",
   "pygments_lexer": "ipython3",
   "version": "3.7.4"
  }
 },
 "nbformat": 4,
 "nbformat_minor": 2
}
